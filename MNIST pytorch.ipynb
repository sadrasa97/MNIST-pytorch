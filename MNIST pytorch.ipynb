{
  "nbformat": 4,
  "nbformat_minor": 0,
  "metadata": {
    "colab": {
      "provenance": []
    },
    "kernelspec": {
      "name": "python3",
      "display_name": "Python 3"
    },
    "language_info": {
      "name": "python"
    },
    "accelerator": "GPU",
    "gpuClass": "standard"
  },
  "cells": [
    {
      "cell_type": "code",
      "execution_count": 8,
      "metadata": {
        "id": "Ja_91o9a5E8B"
      },
      "outputs": [],
      "source": [
        "import numpy as np\n",
        "import matplotlib.pyplot as plt\n",
        "import torch \n",
        "from torch import nn\n",
        "from torch.utils.data import DataLoader\n",
        "from torchvision.datasets import MNIST\n",
        "from torchvision import transforms"
      ]
    },
    {
      "cell_type": "code",
      "source": [
        "mytransforms=transforms.Compose([\n",
        "    transforms.ToTensor(),\n",
        "    transforms.Normalize(0.5,0.5)\n",
        "])"
      ],
      "metadata": {
        "id": "PMGrMfz96ne1"
      },
      "execution_count": 9,
      "outputs": []
    },
    {
      "cell_type": "code",
      "source": [
        "train_data=MNIST('./data',download=True,train=True,transform=mytransforms)\n",
        "test_data=MNIST('./data',download=False,train=False,transform=mytransforms)"
      ],
      "metadata": {
        "id": "HGAY74Lc7ZAg"
      },
      "execution_count": 10,
      "outputs": []
    },
    {
      "cell_type": "code",
      "source": [
        "train_loader=DataLoader(train_data,batch_size=64,num_workers=2)\n",
        "test_loader=DataLoader(test_data,batch_size=64,num_workers=2)"
      ],
      "metadata": {
        "id": "-eLtQEZG8an1"
      },
      "execution_count": 12,
      "outputs": []
    },
    {
      "cell_type": "code",
      "source": [
        "class MNIST_Classifier(nn.Module):\n",
        "    def __init__(self):\n",
        "        super().__init__()\n",
        "        self.conv1=nn.Conv2d(1,16,kernel_size=3)\n",
        "        self.relu1=nn.ReLU()\n",
        "        self.conv2=nn.Conv2d( 16,16,kernel_size=3)\n",
        "        self.relu2=nn.ReLU()\n",
        "        self.pool1=nn.MaxPool2d(kernel_size=2,stride=2)\n",
        "        self.flatten=nn.Flatten()\n",
        "        self.fc1=nn.Linear(in_features= 12*12*16,out_features=10)\n",
        "\n",
        "    def forward(self,input):\n",
        "        y=self.conv1(input)\n",
        "        y=self.relu1(y)\n",
        "        y=self.conv2(y)\n",
        "        y=self.relu2(y)\n",
        "        y=self.pool1(y)\n",
        "        print(y.shape)\n",
        "        y=self.flatten(y)\n",
        "        y=self.fc1(y)\n",
        "        return y\n"
      ],
      "metadata": {
        "id": "L_5O16lL9jMe"
      },
      "execution_count": 38,
      "outputs": []
    },
    {
      "cell_type": "code",
      "source": [
        "mymodel=MNIST_Classifier()"
      ],
      "metadata": {
        "id": "g4Zwn_3aJXX1"
      },
      "execution_count": 39,
      "outputs": []
    },
    {
      "cell_type": "code",
      "source": [
        "test_input=torch.rand(1,1,28,28)\n",
        "mymodel.conv1(test_input).shape"
      ],
      "metadata": {
        "colab": {
          "base_uri": "https://localhost:8080/"
        },
        "id": "cwEEqZPlJzai",
        "outputId": "d4fef5f9-08db-4d1a-a54e-b72ca65e114c"
      },
      "execution_count": 40,
      "outputs": [
        {
          "output_type": "execute_result",
          "data": {
            "text/plain": [
              "torch.Size([1, 16, 26, 26])"
            ]
          },
          "metadata": {},
          "execution_count": 40
        }
      ]
    },
    {
      "cell_type": "code",
      "source": [
        "mymodel.forward(test_input)"
      ],
      "metadata": {
        "colab": {
          "base_uri": "https://localhost:8080/"
        },
        "id": "Rjb9rYPwM9Hx",
        "outputId": "1f1d7ad3-1ef0-48e8-80ae-4b85f64eb0d7"
      },
      "execution_count": 41,
      "outputs": [
        {
          "output_type": "stream",
          "name": "stdout",
          "text": [
            "torch.Size([1, 16, 12, 12])\n"
          ]
        },
        {
          "output_type": "execute_result",
          "data": {
            "text/plain": [
              "tensor([[ 0.0021, -0.0527, -0.0828,  0.0425,  0.0950,  0.0596,  0.0158, -0.0875,\n",
              "          0.0675,  0.0138]], grad_fn=<AddmmBackward0>)"
            ]
          },
          "metadata": {},
          "execution_count": 41
        }
      ]
    }
  ]
}